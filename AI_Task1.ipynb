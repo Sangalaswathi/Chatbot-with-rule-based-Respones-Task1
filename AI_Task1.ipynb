{
  "nbformat": 4,
  "nbformat_minor": 0,
  "metadata": {
    "colab": {
      "provenance": []
    },
    "kernelspec": {
      "name": "python3",
      "display_name": "Python 3"
    },
    "language_info": {
      "name": "python"
    }
  },
  "cells": [
    {
      "cell_type": "markdown",
      "source": [
        "**Task 1:**\n",
        "\n",
        "**CHATBOT WITH RULE-BASED RESPONSES**\n",
        "\n",
        "Build a simple chatbot that responds to user inputs based on predefined rules. Use if-else statements or pattern matching techniques to identify user queries and provide appropriate responses. This will give you a basic understanding of natural language processing and conversation flow artificial intelligence health care."
      ],
      "metadata": {
        "id": "2602Io7kwXPC"
      }
    },
    {
      "cell_type": "code",
      "source": [
        "import re\n",
        "def healthcare_chatbot(user_input):\n",
        "    user_input = user_input.lower()\n",
        "    greetings = re.compile(r'\\b(?:hello|hi|hey|greetings)\\b')\n",
        "    farewells = re.compile(r'\\b(?:bye|goodbye|see you|farewell)\\b')\n",
        "    health_questions = {\n",
        "        'what are the symptoms of covid-19': \"Common symptoms of COVID-19 include fever, dry cough, and tiredness. Some people may experience aches, nasal congestion, sore throat, or diarrhea.\",\n",
        "        'how can i prevent flu': \"To prevent the flu, get vaccinated annually, wash your hands frequently, avoid close contact with sick individuals, and maintain a healthy lifestyle.\",\n",
        "        'what should i do if i have a fever': \"If you have a fever, stay hydrated, rest, and take fever-reducing medications like acetaminophen. If the fever persists, seek medical advice.\",\n",
        "        'where can i find a doctor': \"You can find a doctor by searching online for local healthcare providers, using healthcare apps, or visiting nearby hospitals and clinics.\",\n",
        "        'how to maintain a healthy diet': \"Maintain a healthy diet by eating a variety of foods, including fruits, vegetables, lean proteins, and whole grains. Limit intake of sugar, salt, and unhealthy fats.\",\n",
        "        'what is a balanced diet': \"A balanced diet includes a variety of foods: fruits, vegetables, lean proteins, whole grains, and dairy. It provides all the necessary nutrients your body needs.\"\n",
        "    }\n",
        "    default_response = \"I'm a simple healthcare chatbot. You can ask me about symptoms, prevention tips, or general health advice.\"\n",
        "    if greetings.search(user_input):\n",
        "        return \"Hello! How can I assist you with your health today?\"\n",
        "    elif farewells.search(user_input):\n",
        "        return \"Goodbye! Stay healthy.\"\n",
        "    else:\n",
        "        for question, response in health_questions.items():\n",
        "            if re.search(r'\\b' + re.escape(question) + r'\\b', user_input):\n",
        "                return response\n",
        "        return default_response"
      ],
      "metadata": {
        "id": "t7th6Y3rwp78"
      },
      "execution_count": null,
      "outputs": []
    },
    {
      "cell_type": "code",
      "source": [
        "print(\"Healthcare chatbot. How can I help you?\")\n",
        "while True:\n",
        "    user_input = input(\"You: \")\n",
        "\n",
        "    if user_input.lower() == 'exit':\n",
        "        print(\"Chatbot: Goodbye! Stay healthy.\")\n",
        "        break\n",
        "    response = healthcare_chatbot(user_input)\n",
        "    print(\"Chatbot:\", response)"
      ],
      "metadata": {
        "colab": {
          "base_uri": "https://localhost:8080/"
        },
        "id": "k-jRjA5Aw1S_",
        "outputId": "7e9e60c5-ed63-4da6-9050-768b0dd40349"
      },
      "execution_count": null,
      "outputs": [
        {
          "output_type": "stream",
          "name": "stdout",
          "text": [
            "Healthcare chatbot. How can I help you?\n",
            "You: Hello\n",
            "Chatbot: Hello! How can I assist you with your health today?\n",
            "You: what are the symptoms of covid-19\n",
            "Chatbot: Common symptoms of COVID-19 include fever, dry cough, and tiredness. Some people may experience aches, nasal congestion, sore throat, or diarrhea.\n",
            "You: Bye\n",
            "Chatbot: Goodbye! Stay healthy.\n",
            "You: Exit\n",
            "Chatbot: Goodbye! Stay healthy.\n"
          ]
        }
      ]
    },
    {
      "cell_type": "code",
      "source": [],
      "metadata": {
        "id": "YznYHX5RxNWv"
      },
      "execution_count": null,
      "outputs": []
    }
  ]
}